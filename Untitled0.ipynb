{
  "nbformat": 4,
  "nbformat_minor": 0,
  "metadata": {
    "colab": {
      "provenance": [],
      "authorship_tag": "ABX9TyMTsTh2yQKx1lik/+RihZGz",
      "include_colab_link": true
    },
    "kernelspec": {
      "name": "python3",
      "display_name": "Python 3"
    },
    "language_info": {
      "name": "python"
    }
  },
  "cells": [
    {
      "cell_type": "markdown",
      "metadata": {
        "id": "view-in-github",
        "colab_type": "text"
      },
      "source": [
        "<a href=\"https://colab.research.google.com/github/swagat-7/stock-price-analysis/blob/main/Untitled0.ipynb\" target=\"_parent\"><img src=\"https://colab.research.google.com/assets/colab-badge.svg\" alt=\"Open In Colab\"/></a>"
      ]
    },
    {
      "cell_type": "code",
      "execution_count": null,
      "metadata": {
        "id": "Q70TgnAnGGOh"
      },
      "outputs": [],
      "source": [
        "# stock_predictor_csv.py\n",
        "\n",
        "import pandas as pd\n",
        "import numpy as np\n",
        "import matplotlib.pyplot as plt\n",
        "from sklearn.linear_model import LinearRegression\n",
        "from sklearn.model_selection import train_test_split\n",
        "from sklearn.metrics import mean_squared_error\n",
        "\n",
        "# Step 1: Load CSV Data\n",
        "def load_data(path='AAPL.csv'):\n",
        "    data = pd.read_csv(path, parse_dates=['Date'])\n",
        "    data = data[['Date', 'Open', 'High', 'Low', 'Close', 'Volume']]\n",
        "    data = data.dropna()\n",
        "    return data\n",
        "\n",
        "# Step 2: Feature Engineering\n",
        "def add_features(data):\n",
        "    data['MA10'] = data['Close'].rolling(window=10).mean()\n",
        "    data['MA50'] = data['Close'].rolling(window=50).mean()\n",
        "    data['Daily_Return'] = data['Close'].pct_change()\n",
        "    data['Volatility'] = data['High'] - data['Low']\n",
        "    data = data.dropna()\n",
        "    return data\n",
        "\n",
        "# Step 3: Prepare Features and Labels\n",
        "def prepare_data(data):\n",
        "    features = ['Open', 'High', 'Low', 'Volume', 'MA10', 'MA50', 'Volatility']\n",
        "    X = data[features]\n",
        "    y = data['Close']\n",
        "    return train_test_split(X, y, test_size=0.2, random_state=42)\n",
        "\n",
        "# Step 4: Train Model\n",
        "def train_model(X_train, y_train):\n",
        "    model = LinearRegression()\n",
        "    model.fit(X_train, y_train)\n",
        "    return model\n",
        "\n",
        "# Step 5: Evaluate and Plot\n",
        "def evaluate_model(model, X_test, y_test):\n",
        "    predictions = model.predict(X_test)\n",
        "    mse = mean_squared_error(y_test, predictions)\n",
        "    print(f\"Mean Squared Error: {mse:.2f}\")\n",
        "\n",
        "    # Plotting\n",
        "    plt.figure(figsize=(10, 5))\n",
        "    plt.plot(y_test.values, label='Actual Price')\n",
        "    plt.plot(predictions, label='Predicted Price')\n",
        "    plt.title('Stock Price Prediction (Linear Regression)')\n",
        "    plt.xlabel('Time')\n",
        "    plt.ylabel('Price')\n",
        "    plt.legend()\n",
        "    plt.grid(True)\n",
        "    plt.show()\n",
        "\n",
        "#  Run Everything\n",
        "def run_pipeline():\n",
        "    data = load_data()\n",
        "    data = add_features(data)\n",
        "    X_train, X_test, y_train, y_test = prepare_data(data)\n",
        "    model = train_model(X_train, y_train)\n",
        "    evaluate_model(model, X_test, y_test)\n",
        "\n",
        "if __name__ == \"__main__\":\n",
        "    run_pipeline()\n"
      ]
    }
  ]
}